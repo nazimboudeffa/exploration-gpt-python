{
 "cells": [
  {
   "cell_type": "code",
   "execution_count": 3,
   "id": "b6bb7468-e26f-4df0-b681-60015207588b",
   "metadata": {},
   "outputs": [
    {
     "name": "stdout",
     "output_type": "stream",
     "text": [
      "Texte encodé. Taille vocabulaire : 36\n"
     ]
    }
   ],
   "source": [
    "import torch\n",
    "\n",
    "# 1. Charger le fichier texte\n",
    "with open('exemple.txt', 'r', encoding='utf-8') as f:\n",
    "    text = f.read()\n",
    "    \n",
    "text = text.strip().lower()\n",
    "\n",
    "# 2. Vocabulaire\n",
    "chars = sorted(list(set(text)))\n",
    "vocab_size = len(chars)\n",
    "stoi = {ch: i for i, ch in enumerate(chars)}\n",
    "itos = {i: ch for ch, i in stoi.items()}\n",
    "\n",
    "# 3. Encodage\n",
    "data = torch.tensor([stoi[c] for c in text], dtype=torch.long)\n",
    "block_size = 64\n",
    "\n",
    "# 4. Génération de batchs\n",
    "def get_batch(batch_size=4):\n",
    "    ix = torch.randint(0, len(data) - block_size - 1, (batch_size,))\n",
    "    x = torch.stack([data[i:i+block_size] for i in ix])\n",
    "    y = torch.stack([data[i+1:i+1+block_size] for i in ix])\n",
    "    return x, y\n",
    "\n",
    "print(\"Texte encodé. Taille vocabulaire :\", vocab_size)"
   ]
  },
  {
   "cell_type": "code",
   "execution_count": 4,
   "id": "07a0aec6-e2d8-415c-a2c2-bb91b6a50d9d",
   "metadata": {},
   "outputs": [
    {
     "name": "stdout",
     "output_type": "stream",
     "text": [
      "Étape 0 – Perte : 3.7286\n",
      "Étape 100 – Perte : 2.4619\n",
      "Étape 200 – Perte : 2.2383\n",
      "Étape 300 – Perte : 2.0873\n",
      "Étape 400 – Perte : 2.0169\n",
      "✅ Entraînement terminé.\n"
     ]
    }
   ],
   "source": [
    "import torch.nn as nn\n",
    "import torch.nn.functional as F\n",
    "\n",
    "# Définition d’un mini-modèle GPT\n",
    "class TinyGPT(nn.Module):\n",
    "    def __init__(self, vocab_size, n_embed=64):\n",
    "        super().__init__()\n",
    "        self.embed = nn.Embedding(vocab_size, n_embed)\n",
    "        self.lm_head = nn.Linear(n_embed, vocab_size)\n",
    "\n",
    "    def forward(self, idx):\n",
    "        x = self.embed(idx)\n",
    "        logits = self.lm_head(x)\n",
    "        return logits\n",
    "\n",
    "# Initialisation\n",
    "model = TinyGPT(vocab_size)\n",
    "optimizer = torch.optim.AdamW(model.parameters(), lr=1e-3)\n",
    "loss_fn = nn.CrossEntropyLoss()\n",
    "\n",
    "# Entraînement simple\n",
    "for step in range(500):\n",
    "    x, y = get_batch()\n",
    "    logits = model(x)\n",
    "    B, T, C = logits.shape\n",
    "    loss = loss_fn(logits.view(B*T, C), y.view(B*T))\n",
    "    optimizer.zero_grad()\n",
    "    loss.backward()\n",
    "    optimizer.step()\n",
    "\n",
    "    if step % 100 == 0:\n",
    "        print(f\"Étape {step} – Perte : {loss.item():.4f}\")\n",
    "\n",
    "print(\"✅ Entraînement terminé.\")"
   ]
  },
  {
   "cell_type": "code",
   "execution_count": 5,
   "id": "fde0ab42-4d5d-4748-be76-93c1cf2e3334",
   "metadata": {},
   "outputs": [
    {
     "name": "stdout",
     "output_type": "stream",
     "text": [
      "🔮 Texte généré :\n",
      "\n",
      "un matin, mourine. mex, ges maiel?mmellan br.. bsse mmi, dit pprel faisnt lquvin bouivt ninexpantr ll’ait, est, faue saschares, à bo loier à sintéritr. it, : oien ost letéruinex, mppaége lit flatuimitisvel’at \n"
     ]
    }
   ],
   "source": [
    "@torch.no_grad()\n",
    "def generate(model, prompt, max_new_tokens=100):\n",
    "    model.eval()\n",
    "    idx = torch.tensor([stoi[c] for c in prompt], dtype=torch.long).unsqueeze(0)  # (1, len)\n",
    "    \n",
    "    for _ in range(max_new_tokens):\n",
    "        idx_cond = idx[:, -block_size:]  # garder les derniers caractères si trop long\n",
    "        logits = model(idx_cond)\n",
    "        logits = logits[:, -1, :]  # (1, vocab_size) → dernier token\n",
    "        probs = F.softmax(logits, dim=-1)\n",
    "        next_id = torch.multinomial(probs, num_samples=1)  # tirage aléatoire\n",
    "        idx = torch.cat([idx, next_id], dim=1)\n",
    "\n",
    "    out = ''.join([itos[i.item()] for i in idx[0]])\n",
    "    return out\n",
    "\n",
    "# Exemple d'utilisation\n",
    "prompt = \"un matin,\"\n",
    "generated_text = generate(model, prompt, max_new_tokens=200)\n",
    "print(\"🔮 Texte généré :\\n\")\n",
    "print(generated_text)"
   ]
  }
 ],
 "metadata": {
  "kernelspec": {
   "display_name": "Python 3 (ipykernel)",
   "language": "python",
   "name": "python3"
  },
  "language_info": {
   "codemirror_mode": {
    "name": "ipython",
    "version": 3
   },
   "file_extension": ".py",
   "mimetype": "text/x-python",
   "name": "python",
   "nbconvert_exporter": "python",
   "pygments_lexer": "ipython3",
   "version": "3.13.2"
  }
 },
 "nbformat": 4,
 "nbformat_minor": 5
}
