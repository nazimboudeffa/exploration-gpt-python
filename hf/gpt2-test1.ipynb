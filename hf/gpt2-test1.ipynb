{
 "cells": [
  {
   "cell_type": "code",
   "execution_count": 3,
   "id": "e37f1344-ffc5-40d0-b2cb-51591805d519",
   "metadata": {},
   "outputs": [
    {
     "name": "stderr",
     "output_type": "stream",
     "text": [
      "Device set to use cpu\n",
      "Truncation was not explicitly activated but `max_length` is provided a specific value, please use `truncation=True` to explicitly truncate examples to max length. Defaulting to 'longest_first' truncation strategy. If you encode pairs of sequences (GLUE-style) with the tokenizer you can select this strategy more precisely by providing a specific strategy to `truncation`.\n",
      "Setting `pad_token_id` to `eos_token_id`:50256 for open-end generation.\n",
      "Both `max_new_tokens` (=256) and `max_length`(=50) seem to have been set. `max_new_tokens` will take precedence. Please refer to the documentation for more information. (https://huggingface.co/docs/transformers/main/en/main_classes/text_generation)\n"
     ]
    },
    {
     "name": "stdout",
     "output_type": "stream",
     "text": [
      "once upon a time when a number of the best players in the world were in their prime. But in order to succeed, the team needs to understand what it has to offer, whether it's a better team, or it's a better team.\n",
      "\n",
      "The team needs to know what it is to be successful. The team needs to know how to deal with the adversity that comes along with that, how to maintain that level of success, how to be self-sufficient, how to maintain that level of success.\n",
      "\n",
      "The key is to never let the team down.\n",
      "\n",
      "Don't let the team down.\n",
      "\n",
      "The key is to never let the team down.\n",
      "\n",
      "If you believe in yourself and believe in your team, you can win.\n",
      "\n",
      "Advertisements\n",
      "once upon a time, the world would see its own version of the American dream.\n",
      "\n",
      "The American dream is that our country is a prosperous, democratic country. It is the one thing we can get from the American people – the jobless, the working poor, the seniors, the poor people – that we can give the American people the strength of character and self-respect and will to do what's necessary to make our country great again.\n",
      "\n",
      "As I have said many times in this campaign, we will never get there. But there will be a time when we can get there.\n",
      "\n",
      "The American dream is that we can start to get there.\n",
      "\n",
      "I want to thank all of you for your support. As I was saying, when I ran in 1996 as a Democrat, the GOP came after me on every issue. But the Republican Party came after me on every issue because they had no vision for our country, no vision for our future; they were bankrupt and they sold out.\n",
      "\n",
      "They were losing votes for the same things Republicans had done for the Republicans.\n",
      "\n",
      "They had lost votes for being too tough on Wall Street, too big on drugs. They lost votes for being too conservative. They lost votes for being too conservative on immigration. They lost votes\n",
      "once upon a time,\" said the professor, who says his research is \"very focused on the relationship between the use of marijuana and violence.\"\n",
      "\n",
      "The study, \"Ancillary Health Effects of Marijuana, Alcohol, and Violence: A Multilevel Analysis of the Studies,\" was published in the November issue of the journal Health Affairs.\n",
      "\n",
      "The study found that the daily use of marijuana was associated with a 36 percent reduction in the risk of death by gunfire among African American men, compared to those who never tried the drug.\n",
      "\n",
      "Researchers found that marijuana use during and after the onset of a violent act was associated with a 37 percent reduction in the risk of being shot in the hand, chest or thigh -- but that the risk increased with the duration of the shooting.\n",
      "\n",
      "The study found that the use of marijuana in the first 15 hours after a violent act was associated with a 42 percent reduction in the risk of being shot in the hand.\n",
      "\n",
      "The study concluded that the risk for death by gunfire was also lower in men who never smoked marijuana as compared to those who did try it.\n",
      "\n",
      "The researchers were unsure whether marijuana use was associated with other types of violent behavior. But some of the researchers noted that marijuana use may be a risk factor for some injuries.\n",
      "\n",
      "\n"
     ]
    }
   ],
   "source": [
    "from transformers import pipeline, set_seed\n",
    "\n",
    "generator = pipeline('text-generation', model='openai-community/gpt2')\n",
    "set_seed(42)\n",
    "\n",
    "out = generator(\n",
    "    \"once upon a time\",\n",
    "    max_length=50,\n",
    "    num_return_sequences=3\n",
    ")\n",
    "for gen in out:\n",
    "    print(gen['generated_text'])"
   ]
  },
  {
   "cell_type": "code",
   "execution_count": null,
   "id": "e8a3fd94-36b8-4216-98e1-038757a00baa",
   "metadata": {},
   "outputs": [],
   "source": []
  }
 ],
 "metadata": {
  "kernelspec": {
   "display_name": "Python 3 (ipykernel)",
   "language": "python",
   "name": "python3"
  },
  "language_info": {
   "codemirror_mode": {
    "name": "ipython",
    "version": 3
   },
   "file_extension": ".py",
   "mimetype": "text/x-python",
   "name": "python",
   "nbconvert_exporter": "python",
   "pygments_lexer": "ipython3",
   "version": "3.13.2"
  }
 },
 "nbformat": 4,
 "nbformat_minor": 5
}
