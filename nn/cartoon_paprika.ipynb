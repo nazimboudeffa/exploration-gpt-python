{
 "cells": [
  {
   "cell_type": "code",
   "execution_count": 2,
   "id": "a3d91d90-a22b-4941-8ab2-3760f7c145f8",
   "metadata": {},
   "outputs": [
    {
     "name": "stdout",
     "output_type": "stream",
     "text": [
      "Requirement already satisfied: torch in c:\\users\\nboud\\appdata\\local\\programs\\python\\python313\\lib\\site-packages (2.7.1)\n",
      "Collecting torchvision\n",
      "  Downloading torchvision-0.22.1-cp313-cp313-win_amd64.whl.metadata (6.1 kB)\n",
      "Collecting opencv-python\n",
      "  Downloading opencv_python-4.11.0.86-cp37-abi3-win_amd64.whl.metadata (20 kB)\n",
      "Requirement already satisfied: matplotlib in c:\\users\\nboud\\appdata\\local\\programs\\python\\python313\\lib\\site-packages (3.10.3)\n",
      "Requirement already satisfied: filelock in c:\\users\\nboud\\appdata\\local\\programs\\python\\python313\\lib\\site-packages (from torch) (3.18.0)\n",
      "Requirement already satisfied: typing-extensions>=4.10.0 in c:\\users\\nboud\\appdata\\local\\programs\\python\\python313\\lib\\site-packages (from torch) (4.13.1)\n",
      "Requirement already satisfied: sympy>=1.13.3 in c:\\users\\nboud\\appdata\\local\\programs\\python\\python313\\lib\\site-packages (from torch) (1.14.0)\n",
      "Requirement already satisfied: networkx in c:\\users\\nboud\\appdata\\local\\programs\\python\\python313\\lib\\site-packages (from torch) (3.5)\n",
      "Requirement already satisfied: jinja2 in c:\\users\\nboud\\appdata\\local\\programs\\python\\python313\\lib\\site-packages (from torch) (3.1.6)\n",
      "Requirement already satisfied: fsspec in c:\\users\\nboud\\appdata\\local\\programs\\python\\python313\\lib\\site-packages (from torch) (2025.3.0)\n",
      "Requirement already satisfied: setuptools in c:\\users\\nboud\\appdata\\local\\programs\\python\\python313\\lib\\site-packages (from torch) (78.1.0)\n",
      "Requirement already satisfied: numpy in c:\\users\\nboud\\appdata\\local\\programs\\python\\python313\\lib\\site-packages (from torchvision) (2.2.3)\n",
      "Requirement already satisfied: pillow!=8.3.*,>=5.3.0 in c:\\users\\nboud\\appdata\\local\\programs\\python\\python313\\lib\\site-packages (from torchvision) (11.2.1)\n",
      "Requirement already satisfied: contourpy>=1.0.1 in c:\\users\\nboud\\appdata\\local\\programs\\python\\python313\\lib\\site-packages (from matplotlib) (1.3.2)\n",
      "Requirement already satisfied: cycler>=0.10 in c:\\users\\nboud\\appdata\\local\\programs\\python\\python313\\lib\\site-packages (from matplotlib) (0.12.1)\n",
      "Requirement already satisfied: fonttools>=4.22.0 in c:\\users\\nboud\\appdata\\local\\programs\\python\\python313\\lib\\site-packages (from matplotlib) (4.57.0)\n",
      "Requirement already satisfied: kiwisolver>=1.3.1 in c:\\users\\nboud\\appdata\\local\\programs\\python\\python313\\lib\\site-packages (from matplotlib) (1.4.8)\n",
      "Requirement already satisfied: packaging>=20.0 in c:\\users\\nboud\\appdata\\local\\programs\\python\\python313\\lib\\site-packages (from matplotlib) (24.2)\n",
      "Requirement already satisfied: pyparsing>=2.3.1 in c:\\users\\nboud\\appdata\\local\\programs\\python\\python313\\lib\\site-packages (from matplotlib) (3.2.3)\n",
      "Requirement already satisfied: python-dateutil>=2.7 in c:\\users\\nboud\\appdata\\local\\programs\\python\\python313\\lib\\site-packages (from matplotlib) (2.9.0.post0)\n",
      "Requirement already satisfied: six>=1.5 in c:\\users\\nboud\\appdata\\local\\programs\\python\\python313\\lib\\site-packages (from python-dateutil>=2.7->matplotlib) (1.17.0)\n",
      "Requirement already satisfied: mpmath<1.4,>=1.1.0 in c:\\users\\nboud\\appdata\\local\\programs\\python\\python313\\lib\\site-packages (from sympy>=1.13.3->torch) (1.3.0)\n",
      "Requirement already satisfied: MarkupSafe>=2.0 in c:\\users\\nboud\\appdata\\local\\programs\\python\\python313\\lib\\site-packages (from jinja2->torch) (3.0.2)\n",
      "Downloading torchvision-0.22.1-cp313-cp313-win_amd64.whl (1.7 MB)\n",
      "   ---------------------------------------- 0.0/1.7 MB ? eta -:--:--\n",
      "   ---------------------------------------- 1.7/1.7 MB 42.1 MB/s eta 0:00:00\n",
      "Downloading opencv_python-4.11.0.86-cp37-abi3-win_amd64.whl (39.5 MB)\n",
      "   ---------------------------------------- 0.0/39.5 MB ? eta -:--:--\n",
      "   -------------------- ------------------- 20.7/39.5 MB 102.1 MB/s eta 0:00:01\n",
      "   ----------------------------------- ---- 35.4/39.5 MB 85.1 MB/s eta 0:00:01\n",
      "   ---------------------------------------- 39.5/39.5 MB 73.8 MB/s eta 0:00:00\n",
      "Installing collected packages: opencv-python, torchvision\n",
      "\n",
      "   ---------------------------------------- 0/2 [opencv-python]\n",
      "   ---------------------------------------- 0/2 [opencv-python]\n",
      "   -------------------- ------------------- 1/2 [torchvision]\n",
      "   -------------------- ------------------- 1/2 [torchvision]\n",
      "   -------------------- ------------------- 1/2 [torchvision]\n",
      "   -------------------- ------------------- 1/2 [torchvision]\n",
      "   ---------------------------------------- 2/2 [torchvision]\n",
      "\n",
      "Successfully installed opencv-python-4.11.0.86 torchvision-0.22.1\n",
      "Note: you may need to restart the kernel to use updated packages.\n"
     ]
    }
   ],
   "source": [
    "pip install torch torchvision opencv-python matplotlib"
   ]
  },
  {
   "cell_type": "code",
   "execution_count": 3,
   "id": "b474fa2b-5fe4-46a5-a57a-84e1bd8b21f8",
   "metadata": {},
   "outputs": [],
   "source": [
    "import torch\n",
    "from torchvision import transforms\n",
    "from PIL import Image\n",
    "import matplotlib.pyplot as plt"
   ]
  },
  {
   "cell_type": "code",
   "execution_count": 6,
   "id": "b270b529-6535-402a-afbe-9ac96f3f7825",
   "metadata": {},
   "outputs": [
    {
     "name": "stderr",
     "output_type": "stream",
     "text": [
      "Using cache found in C:\\Users\\nboud/.cache\\torch\\hub\\bryandlee_animegan2-pytorch_main\n"
     ]
    },
    {
     "name": "stdout",
     "output_type": "stream",
     "text": [
      "Downloading: \"https://github.com/bryandlee/animegan2-pytorch/raw/main/weights/paprika.pt\" to C:\\Users\\nboud/.cache\\torch\\hub\\checkpoints\\paprika.pt\n"
     ]
    },
    {
     "name": "stderr",
     "output_type": "stream",
     "text": [
      "100%|█████████████████████████████████████████████████████████████████████████████| 8.20M/8.20M [00:00<00:00, 67.3MB/s]\n",
      "Using cache found in C:\\Users\\nboud/.cache\\torch\\hub\\bryandlee_animegan2-pytorch_main\n"
     ]
    }
   ],
   "source": [
    "# Charger le modèle avec le style 'paprika'\n",
    "model = torch.hub.load(\n",
    "    \"bryandlee/animegan2-pytorch:main\",\n",
    "    \"generator\",\n",
    "    pretrained=\"paprika\"\n",
    ").eval()\n",
    "\n",
    "# Utilitaire pour visages\n",
    "face2paint = torch.hub.load(\n",
    "    \"bryandlee/animegan2-pytorch:main\",\n",
    "    \"face2paint\",\n",
    "    size=512\n",
    ")\n",
    "\n",
    "# Préparation de l’image\n",
    "def cartoonize(image_path):\n",
    "    img = Image.open(image_path).convert(\"RGB\")\n",
    "    out = face2paint(model, img)\n",
    "    return out"
   ]
  },
  {
   "cell_type": "code",
   "execution_count": 8,
   "id": "2519063e-d547-4482-8024-d179c0770376",
   "metadata": {},
   "outputs": [],
   "source": [
    "# Exemple\n",
    "output = cartoonize(\"image_in.jpg\")\n",
    "output.save(\"image_paprika_out.jpg\")"
   ]
  },
  {
   "cell_type": "code",
   "execution_count": null,
   "id": "57a60f40-7c24-4c8f-aab1-c970ac0c5360",
   "metadata": {},
   "outputs": [],
   "source": []
  }
 ],
 "metadata": {
  "kernelspec": {
   "display_name": "Python 3 (ipykernel)",
   "language": "python",
   "name": "python3"
  },
  "language_info": {
   "codemirror_mode": {
    "name": "ipython",
    "version": 3
   },
   "file_extension": ".py",
   "mimetype": "text/x-python",
   "name": "python",
   "nbconvert_exporter": "python",
   "pygments_lexer": "ipython3",
   "version": "3.13.2"
  }
 },
 "nbformat": 4,
 "nbformat_minor": 5
}
